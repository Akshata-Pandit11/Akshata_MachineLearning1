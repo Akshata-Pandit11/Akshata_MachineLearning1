{
 "cells": [
  {
   "cell_type": "code",
   "execution_count": 111,
   "id": "19199576-f507-4d21-bcb1-b9c0828e1128",
   "metadata": {},
   "outputs": [
    {
     "name": "stderr",
     "output_type": "stream",
     "text": [
      "[nltk_data] Downloading package stopwords to C:\\Users\\Akshata\n",
      "[nltk_data]     Pandit\\AppData\\Roaming\\nltk_data...\n",
      "[nltk_data]   Package stopwords is already up-to-date!\n"
     ]
    },
    {
     "data": {
      "text/plain": [
       "True"
      ]
     },
     "execution_count": 111,
     "metadata": {},
     "output_type": "execute_result"
    }
   ],
   "source": [
    "import pandas as pd\n",
    "import seaborn as sns\n",
    "import numpy as np\n",
    "import matplotlib.pyplot as plt\n",
    "from sklearn.tree import DecisionTreeClassifier\n",
    "from sklearn.ensemble import RandomForestClassifier\n",
    "from sklearn.model_selection import train_test_split, KFold, StratifiedKFold, GroupKFold, GridSearchCV, RandomizedSearchCV, cross_val_score\n",
    "from sklearn.metrics import accuracy_score, precision_score, recall_score, cohen_kappa_score, confusion_matrix, ConfusionMatrixDisplay, classification_report\n",
    "from sklearn import model_selection\n",
    "import re\n",
    "from nltk.corpus import stopwords\n",
    "from nltk.stem.porter import PorterStemmer\n",
    "from sklearn.feature_extraction.text import TfidfVectorizer \n",
    "from sklearn.linear_model import LogisticRegression\n",
    "import nltk\n",
    "nltk.download('stopwords')\n"
   ]
  },
  {
   "cell_type": "code",
   "execution_count": 112,
   "id": "f71f7ff1-4b88-49ae-b0e9-28e5469bbbb3",
   "metadata": {},
   "outputs": [],
   "source": [
    "data=pd.read_csv(\"C:\\\\Users\\\\Akshata Pandit\\\\OneDrive\\\\vscode1\\\\IFND.csv\",encoding=\"latin-1\")"
   ]
  },
  {
   "cell_type": "code",
   "execution_count": 113,
   "id": "caedbc11-dfad-4608-8393-cac71dedde68",
   "metadata": {},
   "outputs": [
    {
     "name": "stdout",
     "output_type": "stream",
     "text": [
      "          id                                          Statement  \\\n",
      "0          2  WHO praises India's Aarogya Setu app, says it ...   \n",
      "1          3  In Delhi, Deputy US Secretary of State Stephen...   \n",
      "2          4  LAC tensions: China's strategy behind delibera...   \n",
      "3          5  India has signed 250 documents on Space cooper...   \n",
      "4          6  Tamil Nadu chief minister's mother passes away...   \n",
      "...      ...                                                ...   \n",
      "56709  56711  Fact Check: This is not Bruce Lee playing ping...   \n",
      "56710  56712  Fact Check: Did Japan construct this bridge in...   \n",
      "56711  56713  Fact Check: Viral video of Mexico earthquake i...   \n",
      "56712  56714  Fact Check: Ballet performance by Chinese coup...   \n",
      "56713  56715  Fact Check: Is this little boy crossing into J...   \n",
      "\n",
      "                                                   Image         Web  \\\n",
      "0      https://cdn.dnaindia.com/sites/default/files/s...    DNAINDIA   \n",
      "1      https://cdn.dnaindia.com/sites/default/files/s...    DNAINDIA   \n",
      "2      https://cdn.dnaindia.com/sites/default/files/s...    DNAINDIA   \n",
      "3      https://cdn.dnaindia.com/sites/default/files/s...    DNAINDIA   \n",
      "4      https://cdn.dnaindia.com/sites/default/files/s...    DNAINDIA   \n",
      "...                                                  ...         ...   \n",
      "56709  https://akm-img-a-in.tosshub.com/indiatoday/im...  INDIATODAY   \n",
      "56710  https://akm-img-a-in.tosshub.com/indiatoday/im...  INDIATODAY   \n",
      "56711  https://akm-img-a-in.tosshub.com/indiatoday/im...  INDIATODAY   \n",
      "56712  https://akm-img-a-in.tosshub.com/indiatoday/im...  INDIATODAY   \n",
      "56713  https://akm-img-a-in.tosshub.com/indiatoday/im...  INDIATODAY   \n",
      "\n",
      "         Category     Date Label  \n",
      "0        COVID-19   Oct-20  TRUE  \n",
      "1        VIOLENCE   Oct-20  TRUE  \n",
      "2          TERROR   Oct-20  TRUE  \n",
      "3        COVID-19   Oct-20  TRUE  \n",
      "4        ELECTION   Oct-20  TRUE  \n",
      "...           ...      ...   ...  \n",
      "56709  MISLEADING  11-2019  Fake  \n",
      "56710    COVID-19  10-2019  Fake  \n",
      "56711  MISLEADING  10-2019  Fake  \n",
      "56712    COVID-19   9-2019  Fake  \n",
      "56713  MISLEADING   9-2019  Fake  \n",
      "\n",
      "[56714 rows x 7 columns]\n"
     ]
    }
   ],
   "source": [
    "print(data)"
   ]
  },
  {
   "cell_type": "code",
   "execution_count": 114,
   "id": "e0c2ea23-1132-4955-9ddc-aa3f2c696040",
   "metadata": {},
   "outputs": [
    {
     "data": {
      "text/plain": [
       "id               0\n",
       "Statement        0\n",
       "Image            0\n",
       "Web              0\n",
       "Category         0\n",
       "Date         11321\n",
       "Label            0\n",
       "dtype: int64"
      ]
     },
     "execution_count": 114,
     "metadata": {},
     "output_type": "execute_result"
    }
   ],
   "source": [
    "data.isnull().sum()"
   ]
  },
  {
   "cell_type": "code",
   "execution_count": 115,
   "id": "322ca6c3-6649-4047-ab98-3ce63eceb82a",
   "metadata": {},
   "outputs": [
    {
     "data": {
      "text/html": [
       "<div>\n",
       "<style scoped>\n",
       "    .dataframe tbody tr th:only-of-type {\n",
       "        vertical-align: middle;\n",
       "    }\n",
       "\n",
       "    .dataframe tbody tr th {\n",
       "        vertical-align: top;\n",
       "    }\n",
       "\n",
       "    .dataframe thead th {\n",
       "        text-align: right;\n",
       "    }\n",
       "</style>\n",
       "<table border=\"1\" class=\"dataframe\">\n",
       "  <thead>\n",
       "    <tr style=\"text-align: right;\">\n",
       "      <th></th>\n",
       "      <th>id</th>\n",
       "      <th>Statement</th>\n",
       "      <th>Image</th>\n",
       "      <th>Web</th>\n",
       "      <th>Category</th>\n",
       "      <th>Date</th>\n",
       "      <th>Label</th>\n",
       "    </tr>\n",
       "  </thead>\n",
       "  <tbody>\n",
       "    <tr>\n",
       "      <th>0</th>\n",
       "      <td>2</td>\n",
       "      <td>WHO praises India's Aarogya Setu app, says it ...</td>\n",
       "      <td>https://cdn.dnaindia.com/sites/default/files/s...</td>\n",
       "      <td>DNAINDIA</td>\n",
       "      <td>COVID-19</td>\n",
       "      <td>Oct-20</td>\n",
       "      <td>TRUE</td>\n",
       "    </tr>\n",
       "    <tr>\n",
       "      <th>1</th>\n",
       "      <td>3</td>\n",
       "      <td>In Delhi, Deputy US Secretary of State Stephen...</td>\n",
       "      <td>https://cdn.dnaindia.com/sites/default/files/s...</td>\n",
       "      <td>DNAINDIA</td>\n",
       "      <td>VIOLENCE</td>\n",
       "      <td>Oct-20</td>\n",
       "      <td>TRUE</td>\n",
       "    </tr>\n",
       "    <tr>\n",
       "      <th>2</th>\n",
       "      <td>4</td>\n",
       "      <td>LAC tensions: China's strategy behind delibera...</td>\n",
       "      <td>https://cdn.dnaindia.com/sites/default/files/s...</td>\n",
       "      <td>DNAINDIA</td>\n",
       "      <td>TERROR</td>\n",
       "      <td>Oct-20</td>\n",
       "      <td>TRUE</td>\n",
       "    </tr>\n",
       "    <tr>\n",
       "      <th>3</th>\n",
       "      <td>5</td>\n",
       "      <td>India has signed 250 documents on Space cooper...</td>\n",
       "      <td>https://cdn.dnaindia.com/sites/default/files/s...</td>\n",
       "      <td>DNAINDIA</td>\n",
       "      <td>COVID-19</td>\n",
       "      <td>Oct-20</td>\n",
       "      <td>TRUE</td>\n",
       "    </tr>\n",
       "    <tr>\n",
       "      <th>4</th>\n",
       "      <td>6</td>\n",
       "      <td>Tamil Nadu chief minister's mother passes away...</td>\n",
       "      <td>https://cdn.dnaindia.com/sites/default/files/s...</td>\n",
       "      <td>DNAINDIA</td>\n",
       "      <td>ELECTION</td>\n",
       "      <td>Oct-20</td>\n",
       "      <td>TRUE</td>\n",
       "    </tr>\n",
       "  </tbody>\n",
       "</table>\n",
       "</div>"
      ],
      "text/plain": [
       "   id                                          Statement  \\\n",
       "0   2  WHO praises India's Aarogya Setu app, says it ...   \n",
       "1   3  In Delhi, Deputy US Secretary of State Stephen...   \n",
       "2   4  LAC tensions: China's strategy behind delibera...   \n",
       "3   5  India has signed 250 documents on Space cooper...   \n",
       "4   6  Tamil Nadu chief minister's mother passes away...   \n",
       "\n",
       "                                               Image       Web  Category  \\\n",
       "0  https://cdn.dnaindia.com/sites/default/files/s...  DNAINDIA  COVID-19   \n",
       "1  https://cdn.dnaindia.com/sites/default/files/s...  DNAINDIA  VIOLENCE   \n",
       "2  https://cdn.dnaindia.com/sites/default/files/s...  DNAINDIA    TERROR   \n",
       "3  https://cdn.dnaindia.com/sites/default/files/s...  DNAINDIA  COVID-19   \n",
       "4  https://cdn.dnaindia.com/sites/default/files/s...  DNAINDIA  ELECTION   \n",
       "\n",
       "     Date Label  \n",
       "0  Oct-20  TRUE  \n",
       "1  Oct-20  TRUE  \n",
       "2  Oct-20  TRUE  \n",
       "3  Oct-20  TRUE  \n",
       "4  Oct-20  TRUE  "
      ]
     },
     "execution_count": 115,
     "metadata": {},
     "output_type": "execute_result"
    }
   ],
   "source": [
    "data.head()"
   ]
  },
  {
   "cell_type": "code",
   "execution_count": 116,
   "id": "fd89938b-ddce-4305-994f-fa47fbbca548",
   "metadata": {},
   "outputs": [
    {
     "data": {
      "text/plain": [
       "(56714, 7)"
      ]
     },
     "execution_count": 116,
     "metadata": {},
     "output_type": "execute_result"
    }
   ],
   "source": [
    "data.shape"
   ]
  },
  {
   "cell_type": "code",
   "execution_count": 117,
   "id": "7a3d80e5-3d13-4ab7-8bd2-bc5a59f51595",
   "metadata": {},
   "outputs": [
    {
     "data": {
      "text/html": [
       "<div>\n",
       "<style scoped>\n",
       "    .dataframe tbody tr th:only-of-type {\n",
       "        vertical-align: middle;\n",
       "    }\n",
       "\n",
       "    .dataframe tbody tr th {\n",
       "        vertical-align: top;\n",
       "    }\n",
       "\n",
       "    .dataframe thead th {\n",
       "        text-align: right;\n",
       "    }\n",
       "</style>\n",
       "<table border=\"1\" class=\"dataframe\">\n",
       "  <thead>\n",
       "    <tr style=\"text-align: right;\">\n",
       "      <th></th>\n",
       "      <th>id</th>\n",
       "      <th>Statement</th>\n",
       "      <th>Image</th>\n",
       "      <th>Web</th>\n",
       "      <th>Category</th>\n",
       "      <th>Date</th>\n",
       "      <th>Label</th>\n",
       "    </tr>\n",
       "  </thead>\n",
       "  <tbody>\n",
       "    <tr>\n",
       "      <th>0</th>\n",
       "      <td>2</td>\n",
       "      <td>WHO praises India's Aarogya Setu app, says it ...</td>\n",
       "      <td>https://cdn.dnaindia.com/sites/default/files/s...</td>\n",
       "      <td>DNAINDIA</td>\n",
       "      <td>COVID-19</td>\n",
       "      <td>Oct-20</td>\n",
       "      <td>TRUE</td>\n",
       "    </tr>\n",
       "    <tr>\n",
       "      <th>1</th>\n",
       "      <td>3</td>\n",
       "      <td>In Delhi, Deputy US Secretary of State Stephen...</td>\n",
       "      <td>https://cdn.dnaindia.com/sites/default/files/s...</td>\n",
       "      <td>DNAINDIA</td>\n",
       "      <td>VIOLENCE</td>\n",
       "      <td>Oct-20</td>\n",
       "      <td>TRUE</td>\n",
       "    </tr>\n",
       "    <tr>\n",
       "      <th>2</th>\n",
       "      <td>4</td>\n",
       "      <td>LAC tensions: China's strategy behind delibera...</td>\n",
       "      <td>https://cdn.dnaindia.com/sites/default/files/s...</td>\n",
       "      <td>DNAINDIA</td>\n",
       "      <td>TERROR</td>\n",
       "      <td>Oct-20</td>\n",
       "      <td>TRUE</td>\n",
       "    </tr>\n",
       "    <tr>\n",
       "      <th>3</th>\n",
       "      <td>5</td>\n",
       "      <td>India has signed 250 documents on Space cooper...</td>\n",
       "      <td>https://cdn.dnaindia.com/sites/default/files/s...</td>\n",
       "      <td>DNAINDIA</td>\n",
       "      <td>COVID-19</td>\n",
       "      <td>Oct-20</td>\n",
       "      <td>TRUE</td>\n",
       "    </tr>\n",
       "    <tr>\n",
       "      <th>4</th>\n",
       "      <td>6</td>\n",
       "      <td>Tamil Nadu chief minister's mother passes away...</td>\n",
       "      <td>https://cdn.dnaindia.com/sites/default/files/s...</td>\n",
       "      <td>DNAINDIA</td>\n",
       "      <td>ELECTION</td>\n",
       "      <td>Oct-20</td>\n",
       "      <td>TRUE</td>\n",
       "    </tr>\n",
       "    <tr>\n",
       "      <th>...</th>\n",
       "      <td>...</td>\n",
       "      <td>...</td>\n",
       "      <td>...</td>\n",
       "      <td>...</td>\n",
       "      <td>...</td>\n",
       "      <td>...</td>\n",
       "      <td>...</td>\n",
       "    </tr>\n",
       "    <tr>\n",
       "      <th>56709</th>\n",
       "      <td>56711</td>\n",
       "      <td>Fact Check: This is not Bruce Lee playing ping...</td>\n",
       "      <td>https://akm-img-a-in.tosshub.com/indiatoday/im...</td>\n",
       "      <td>INDIATODAY</td>\n",
       "      <td>MISLEADING</td>\n",
       "      <td>11-2019</td>\n",
       "      <td>Fake</td>\n",
       "    </tr>\n",
       "    <tr>\n",
       "      <th>56710</th>\n",
       "      <td>56712</td>\n",
       "      <td>Fact Check: Did Japan construct this bridge in...</td>\n",
       "      <td>https://akm-img-a-in.tosshub.com/indiatoday/im...</td>\n",
       "      <td>INDIATODAY</td>\n",
       "      <td>COVID-19</td>\n",
       "      <td>10-2019</td>\n",
       "      <td>Fake</td>\n",
       "    </tr>\n",
       "    <tr>\n",
       "      <th>56711</th>\n",
       "      <td>56713</td>\n",
       "      <td>Fact Check: Viral video of Mexico earthquake i...</td>\n",
       "      <td>https://akm-img-a-in.tosshub.com/indiatoday/im...</td>\n",
       "      <td>INDIATODAY</td>\n",
       "      <td>MISLEADING</td>\n",
       "      <td>10-2019</td>\n",
       "      <td>Fake</td>\n",
       "    </tr>\n",
       "    <tr>\n",
       "      <th>56712</th>\n",
       "      <td>56714</td>\n",
       "      <td>Fact Check: Ballet performance by Chinese coup...</td>\n",
       "      <td>https://akm-img-a-in.tosshub.com/indiatoday/im...</td>\n",
       "      <td>INDIATODAY</td>\n",
       "      <td>COVID-19</td>\n",
       "      <td>9-2019</td>\n",
       "      <td>Fake</td>\n",
       "    </tr>\n",
       "    <tr>\n",
       "      <th>56713</th>\n",
       "      <td>56715</td>\n",
       "      <td>Fact Check: Is this little boy crossing into J...</td>\n",
       "      <td>https://akm-img-a-in.tosshub.com/indiatoday/im...</td>\n",
       "      <td>INDIATODAY</td>\n",
       "      <td>MISLEADING</td>\n",
       "      <td>9-2019</td>\n",
       "      <td>Fake</td>\n",
       "    </tr>\n",
       "  </tbody>\n",
       "</table>\n",
       "<p>56714 rows × 7 columns</p>\n",
       "</div>"
      ],
      "text/plain": [
       "          id                                          Statement  \\\n",
       "0          2  WHO praises India's Aarogya Setu app, says it ...   \n",
       "1          3  In Delhi, Deputy US Secretary of State Stephen...   \n",
       "2          4  LAC tensions: China's strategy behind delibera...   \n",
       "3          5  India has signed 250 documents on Space cooper...   \n",
       "4          6  Tamil Nadu chief minister's mother passes away...   \n",
       "...      ...                                                ...   \n",
       "56709  56711  Fact Check: This is not Bruce Lee playing ping...   \n",
       "56710  56712  Fact Check: Did Japan construct this bridge in...   \n",
       "56711  56713  Fact Check: Viral video of Mexico earthquake i...   \n",
       "56712  56714  Fact Check: Ballet performance by Chinese coup...   \n",
       "56713  56715  Fact Check: Is this little boy crossing into J...   \n",
       "\n",
       "                                                   Image         Web  \\\n",
       "0      https://cdn.dnaindia.com/sites/default/files/s...    DNAINDIA   \n",
       "1      https://cdn.dnaindia.com/sites/default/files/s...    DNAINDIA   \n",
       "2      https://cdn.dnaindia.com/sites/default/files/s...    DNAINDIA   \n",
       "3      https://cdn.dnaindia.com/sites/default/files/s...    DNAINDIA   \n",
       "4      https://cdn.dnaindia.com/sites/default/files/s...    DNAINDIA   \n",
       "...                                                  ...         ...   \n",
       "56709  https://akm-img-a-in.tosshub.com/indiatoday/im...  INDIATODAY   \n",
       "56710  https://akm-img-a-in.tosshub.com/indiatoday/im...  INDIATODAY   \n",
       "56711  https://akm-img-a-in.tosshub.com/indiatoday/im...  INDIATODAY   \n",
       "56712  https://akm-img-a-in.tosshub.com/indiatoday/im...  INDIATODAY   \n",
       "56713  https://akm-img-a-in.tosshub.com/indiatoday/im...  INDIATODAY   \n",
       "\n",
       "         Category     Date Label  \n",
       "0        COVID-19   Oct-20  TRUE  \n",
       "1        VIOLENCE   Oct-20  TRUE  \n",
       "2          TERROR   Oct-20  TRUE  \n",
       "3        COVID-19   Oct-20  TRUE  \n",
       "4        ELECTION   Oct-20  TRUE  \n",
       "...           ...      ...   ...  \n",
       "56709  MISLEADING  11-2019  Fake  \n",
       "56710    COVID-19  10-2019  Fake  \n",
       "56711  MISLEADING  10-2019  Fake  \n",
       "56712    COVID-19   9-2019  Fake  \n",
       "56713  MISLEADING   9-2019  Fake  \n",
       "\n",
       "[56714 rows x 7 columns]"
      ]
     },
     "execution_count": 117,
     "metadata": {},
     "output_type": "execute_result"
    }
   ],
   "source": [
    "data.fillna('')"
   ]
  },
  {
   "cell_type": "code",
   "execution_count": 118,
   "id": "0564aac2-b454-4638-aab3-51f356799355",
   "metadata": {},
   "outputs": [
    {
     "data": {
      "text/plain": [
       "id               0\n",
       "Statement        0\n",
       "Image            0\n",
       "Web              0\n",
       "Category         0\n",
       "Date         11321\n",
       "Label            0\n",
       "dtype: int64"
      ]
     },
     "execution_count": 118,
     "metadata": {},
     "output_type": "execute_result"
    }
   ],
   "source": [
    "data.isnull().sum()"
   ]
  },
  {
   "cell_type": "code",
   "execution_count": 119,
   "id": "08ca1a94-99cf-43ae-b48d-4d7983c88300",
   "metadata": {},
   "outputs": [],
   "source": [
    "data[\"content\"]=data[\"Category\"]+'   '+data[\"Statement\"]"
   ]
  },
  {
   "cell_type": "code",
   "execution_count": 120,
   "id": "f22379e2-5c74-4252-bf6e-8e720d1f9e36",
   "metadata": {
    "scrolled": true
   },
   "outputs": [],
   "source": [
    "data=data[['Label','content']]"
   ]
  },
  {
   "cell_type": "code",
   "execution_count": 121,
   "id": "b476e261-9373-4ebd-a93d-f3e3b5496990",
   "metadata": {},
   "outputs": [
    {
     "data": {
      "text/html": [
       "<div>\n",
       "<style scoped>\n",
       "    .dataframe tbody tr th:only-of-type {\n",
       "        vertical-align: middle;\n",
       "    }\n",
       "\n",
       "    .dataframe tbody tr th {\n",
       "        vertical-align: top;\n",
       "    }\n",
       "\n",
       "    .dataframe thead th {\n",
       "        text-align: right;\n",
       "    }\n",
       "</style>\n",
       "<table border=\"1\" class=\"dataframe\">\n",
       "  <thead>\n",
       "    <tr style=\"text-align: right;\">\n",
       "      <th></th>\n",
       "      <th>Label</th>\n",
       "      <th>content</th>\n",
       "    </tr>\n",
       "  </thead>\n",
       "  <tbody>\n",
       "    <tr>\n",
       "      <th>0</th>\n",
       "      <td>TRUE</td>\n",
       "      <td>COVID-19   WHO praises India's Aarogya Setu ap...</td>\n",
       "    </tr>\n",
       "    <tr>\n",
       "      <th>1</th>\n",
       "      <td>TRUE</td>\n",
       "      <td>VIOLENCE   In Delhi, Deputy US Secretary of St...</td>\n",
       "    </tr>\n",
       "    <tr>\n",
       "      <th>2</th>\n",
       "      <td>TRUE</td>\n",
       "      <td>TERROR   LAC tensions: China's strategy behind...</td>\n",
       "    </tr>\n",
       "    <tr>\n",
       "      <th>3</th>\n",
       "      <td>TRUE</td>\n",
       "      <td>COVID-19   India has signed 250 documents on S...</td>\n",
       "    </tr>\n",
       "    <tr>\n",
       "      <th>4</th>\n",
       "      <td>TRUE</td>\n",
       "      <td>ELECTION   Tamil Nadu chief minister's mother ...</td>\n",
       "    </tr>\n",
       "    <tr>\n",
       "      <th>...</th>\n",
       "      <td>...</td>\n",
       "      <td>...</td>\n",
       "    </tr>\n",
       "    <tr>\n",
       "      <th>56709</th>\n",
       "      <td>Fake</td>\n",
       "      <td>MISLEADING   Fact Check: This is not Bruce Lee...</td>\n",
       "    </tr>\n",
       "    <tr>\n",
       "      <th>56710</th>\n",
       "      <td>Fake</td>\n",
       "      <td>COVID-19   Fact Check: Did Japan construct thi...</td>\n",
       "    </tr>\n",
       "    <tr>\n",
       "      <th>56711</th>\n",
       "      <td>Fake</td>\n",
       "      <td>MISLEADING   Fact Check: Viral video of Mexico...</td>\n",
       "    </tr>\n",
       "    <tr>\n",
       "      <th>56712</th>\n",
       "      <td>Fake</td>\n",
       "      <td>COVID-19   Fact Check: Ballet performance by C...</td>\n",
       "    </tr>\n",
       "    <tr>\n",
       "      <th>56713</th>\n",
       "      <td>Fake</td>\n",
       "      <td>MISLEADING   Fact Check: Is this little boy cr...</td>\n",
       "    </tr>\n",
       "  </tbody>\n",
       "</table>\n",
       "<p>56714 rows × 2 columns</p>\n",
       "</div>"
      ],
      "text/plain": [
       "      Label                                            content\n",
       "0      TRUE  COVID-19   WHO praises India's Aarogya Setu ap...\n",
       "1      TRUE  VIOLENCE   In Delhi, Deputy US Secretary of St...\n",
       "2      TRUE  TERROR   LAC tensions: China's strategy behind...\n",
       "3      TRUE  COVID-19   India has signed 250 documents on S...\n",
       "4      TRUE  ELECTION   Tamil Nadu chief minister's mother ...\n",
       "...     ...                                                ...\n",
       "56709  Fake  MISLEADING   Fact Check: This is not Bruce Lee...\n",
       "56710  Fake  COVID-19   Fact Check: Did Japan construct thi...\n",
       "56711  Fake  MISLEADING   Fact Check: Viral video of Mexico...\n",
       "56712  Fake  COVID-19   Fact Check: Ballet performance by C...\n",
       "56713  Fake  MISLEADING   Fact Check: Is this little boy cr...\n",
       "\n",
       "[56714 rows x 2 columns]"
      ]
     },
     "execution_count": 121,
     "metadata": {},
     "output_type": "execute_result"
    }
   ],
   "source": [
    "data"
   ]
  },
  {
   "cell_type": "code",
   "execution_count": 122,
   "id": "f0965e2a-44e3-405a-8cc9-f392fc98b38b",
   "metadata": {},
   "outputs": [
    {
     "data": {
      "text/plain": [
       "'GOVERNMENT   Seven Indians kidnapped in Libya in September released'"
      ]
     },
     "execution_count": 122,
     "metadata": {},
     "output_type": "execute_result"
    }
   ],
   "source": [
    "data[\"content\"][28]"
   ]
  },
  {
   "cell_type": "code",
   "execution_count": 123,
   "id": "304a60bd-609f-49b7-bea9-3ce5c404bda4",
   "metadata": {},
   "outputs": [],
   "source": [
    "# stemming\n",
    "ps = PorterStemmer()\n",
    "def stemming(content):\n",
    "    stemmed_content = re.sub('[^a-zA-Z]',' ',content)\n",
    "    stemmed_content = stemmed_content.lower()\n",
    "    stemmed_content = stemmed_content.split()\n",
    "    stemmed_content = [ps.stem(word) for word in stemmed_content if not word in stopwords.words('english')]\n",
    "    stemmed_content = ' '.join(stemmed_content)\n",
    "    return stemmed_content"
   ]
  },
  {
   "cell_type": "code",
   "execution_count": 124,
   "id": "e31cd814-7585-4439-9c9f-4f8414639ed0",
   "metadata": {},
   "outputs": [],
   "source": [
    "data['content']=data['content'].apply(stemming)"
   ]
  },
  {
   "cell_type": "code",
   "execution_count": 125,
   "id": "c43837c5-cc43-4817-92da-4bcecd38e3cf",
   "metadata": {},
   "outputs": [],
   "source": [
    "X_train,X_test,Y_train,Y_test=train_test_split(data['content'],data['Label'])"
   ]
  },
  {
   "cell_type": "code",
   "execution_count": 126,
   "id": "8d797a40-5bca-4318-b683-df52986a57fe",
   "metadata": {},
   "outputs": [
    {
     "data": {
      "text/plain": [
       "33459    violenc patna high court seek repli govt poor ...\n",
       "34565    govern sai baba birthplac row shop eateri loca...\n",
       "43088            govern pictur man pee pm modi poster fake\n",
       "10557     govern bodi year old man throat slit found banda\n",
       "50165    mislead waqf board issu denial claim babri hos...\n",
       "                               ...                        \n",
       "31871    govern csr disclosur rule set tighten increas ...\n",
       "19016    violenc hc quash charg sheet supriyo outrag mo...\n",
       "22889        terror jharkhand poll candid age increas year\n",
       "27619    govern enough talk aap delhi sop bjp plan show...\n",
       "53318    govern believ fake twitter handl attribut isro...\n",
       "Name: content, Length: 42535, dtype: object"
      ]
     },
     "execution_count": 126,
     "metadata": {},
     "output_type": "execute_result"
    }
   ],
   "source": [
    "X_train"
   ]
  },
  {
   "cell_type": "code",
   "execution_count": 127,
   "id": "523ab945-2870-4faa-a48d-02cf02281f58",
   "metadata": {},
   "outputs": [],
   "source": [
    "# TF-IDF vectorization\n",
    "tfidf_vectorizer=TfidfVectorizer()\n",
    "X_train_tfidf=tfidf_vectorizer.fit_transform(X_train)\n",
    "X_test_tfidf=tfidf_vectorizer.transform(X_test)"
   ]
  },
  {
   "cell_type": "code",
   "execution_count": 128,
   "id": "dc66be73-873a-4310-9d4b-d9acde7e0c33",
   "metadata": {},
   "outputs": [
    {
     "data": {
      "text/html": [
       "<style>#sk-container-id-7 {color: black;background-color: white;}#sk-container-id-7 pre{padding: 0;}#sk-container-id-7 div.sk-toggleable {background-color: white;}#sk-container-id-7 label.sk-toggleable__label {cursor: pointer;display: block;width: 100%;margin-bottom: 0;padding: 0.3em;box-sizing: border-box;text-align: center;}#sk-container-id-7 label.sk-toggleable__label-arrow:before {content: \"▸\";float: left;margin-right: 0.25em;color: #696969;}#sk-container-id-7 label.sk-toggleable__label-arrow:hover:before {color: black;}#sk-container-id-7 div.sk-estimator:hover label.sk-toggleable__label-arrow:before {color: black;}#sk-container-id-7 div.sk-toggleable__content {max-height: 0;max-width: 0;overflow: hidden;text-align: left;background-color: #f0f8ff;}#sk-container-id-7 div.sk-toggleable__content pre {margin: 0.2em;color: black;border-radius: 0.25em;background-color: #f0f8ff;}#sk-container-id-7 input.sk-toggleable__control:checked~div.sk-toggleable__content {max-height: 200px;max-width: 100%;overflow: auto;}#sk-container-id-7 input.sk-toggleable__control:checked~label.sk-toggleable__label-arrow:before {content: \"▾\";}#sk-container-id-7 div.sk-estimator input.sk-toggleable__control:checked~label.sk-toggleable__label {background-color: #d4ebff;}#sk-container-id-7 div.sk-label input.sk-toggleable__control:checked~label.sk-toggleable__label {background-color: #d4ebff;}#sk-container-id-7 input.sk-hidden--visually {border: 0;clip: rect(1px 1px 1px 1px);clip: rect(1px, 1px, 1px, 1px);height: 1px;margin: -1px;overflow: hidden;padding: 0;position: absolute;width: 1px;}#sk-container-id-7 div.sk-estimator {font-family: monospace;background-color: #f0f8ff;border: 1px dotted black;border-radius: 0.25em;box-sizing: border-box;margin-bottom: 0.5em;}#sk-container-id-7 div.sk-estimator:hover {background-color: #d4ebff;}#sk-container-id-7 div.sk-parallel-item::after {content: \"\";width: 100%;border-bottom: 1px solid gray;flex-grow: 1;}#sk-container-id-7 div.sk-label:hover label.sk-toggleable__label {background-color: #d4ebff;}#sk-container-id-7 div.sk-serial::before {content: \"\";position: absolute;border-left: 1px solid gray;box-sizing: border-box;top: 0;bottom: 0;left: 50%;z-index: 0;}#sk-container-id-7 div.sk-serial {display: flex;flex-direction: column;align-items: center;background-color: white;padding-right: 0.2em;padding-left: 0.2em;position: relative;}#sk-container-id-7 div.sk-item {position: relative;z-index: 1;}#sk-container-id-7 div.sk-parallel {display: flex;align-items: stretch;justify-content: center;background-color: white;position: relative;}#sk-container-id-7 div.sk-item::before, #sk-container-id-7 div.sk-parallel-item::before {content: \"\";position: absolute;border-left: 1px solid gray;box-sizing: border-box;top: 0;bottom: 0;left: 50%;z-index: -1;}#sk-container-id-7 div.sk-parallel-item {display: flex;flex-direction: column;z-index: 1;position: relative;background-color: white;}#sk-container-id-7 div.sk-parallel-item:first-child::after {align-self: flex-end;width: 50%;}#sk-container-id-7 div.sk-parallel-item:last-child::after {align-self: flex-start;width: 50%;}#sk-container-id-7 div.sk-parallel-item:only-child::after {width: 0;}#sk-container-id-7 div.sk-dashed-wrapped {border: 1px dashed gray;margin: 0 0.4em 0.5em 0.4em;box-sizing: border-box;padding-bottom: 0.4em;background-color: white;}#sk-container-id-7 div.sk-label label {font-family: monospace;font-weight: bold;display: inline-block;line-height: 1.2em;}#sk-container-id-7 div.sk-label-container {text-align: center;}#sk-container-id-7 div.sk-container {/* jupyter's `normalize.less` sets `[hidden] { display: none; }` but bootstrap.min.css set `[hidden] { display: none !important; }` so we also need the `!important` here to be able to override the default hidden behavior on the sphinx rendered scikit-learn.org. See: https://github.com/scikit-learn/scikit-learn/issues/21755 */display: inline-block !important;position: relative;}#sk-container-id-7 div.sk-text-repr-fallback {display: none;}</style><div id=\"sk-container-id-7\" class=\"sk-top-container\"><div class=\"sk-text-repr-fallback\"><pre>RandomForestClassifier(random_state=42)</pre><b>In a Jupyter environment, please rerun this cell to show the HTML representation or trust the notebook. <br />On GitHub, the HTML representation is unable to render, please try loading this page with nbviewer.org.</b></div><div class=\"sk-container\" hidden><div class=\"sk-item\"><div class=\"sk-estimator sk-toggleable\"><input class=\"sk-toggleable__control sk-hidden--visually\" id=\"sk-estimator-id-7\" type=\"checkbox\" checked><label for=\"sk-estimator-id-7\" class=\"sk-toggleable__label sk-toggleable__label-arrow\">RandomForestClassifier</label><div class=\"sk-toggleable__content\"><pre>RandomForestClassifier(random_state=42)</pre></div></div></div></div></div>"
      ],
      "text/plain": [
       "RandomForestClassifier(random_state=42)"
      ]
     },
     "execution_count": 128,
     "metadata": {},
     "output_type": "execute_result"
    }
   ],
   "source": [
    "rf=RandomForestClassifier(random_state=42)\n",
    "rf.fit(X_train_tfidf,Y_train)"
   ]
  },
  {
   "cell_type": "code",
   "execution_count": 129,
   "id": "901d056a-278f-4fdd-bf83-c8c449b9af96",
   "metadata": {},
   "outputs": [],
   "source": [
    "p_pred=rf.predict(X_test_tfidf)"
   ]
  },
  {
   "cell_type": "code",
   "execution_count": 130,
   "id": "b3344506-8406-494d-b193-2d3e6770083e",
   "metadata": {},
   "outputs": [
    {
     "name": "stdout",
     "output_type": "stream",
     "text": [
      "Confusion Matrix:\n",
      "[[4224  426]\n",
      " [ 130 9399]]\n",
      "\n",
      "Classification Report:\n",
      "              precision    recall  f1-score   support\n",
      "\n",
      "        Fake       0.97      0.91      0.94      4650\n",
      "        TRUE       0.96      0.99      0.97      9529\n",
      "\n",
      "    accuracy                           0.96     14179\n",
      "   macro avg       0.96      0.95      0.95     14179\n",
      "weighted avg       0.96      0.96      0.96     14179\n",
      "\n"
     ]
    }
   ],
   "source": [
    "conf_matrix = confusion_matrix(Y_test, p_pred)\n",
    "class_report = classification_report(Y_test, p_pred)\n",
    "print(\"Confusion Matrix:\")\n",
    "print(conf_matrix)\n",
    "print(\"\\nClassification Report:\")\n",
    "print(class_report)"
   ]
  },
  {
   "cell_type": "code",
   "execution_count": 131,
   "id": "db1f4c8b-f3c6-46dd-a1a4-b052efbf9aec",
   "metadata": {},
   "outputs": [
    {
     "data": {
      "text/plain": [
       "'news is fake'"
      ]
     },
     "execution_count": 131,
     "metadata": {},
     "output_type": "execute_result"
    }
   ],
   "source": [
    "def predict(text):\n",
    "    stemmed=stemming(text)\n",
    "    texxt=tfidf_vectorizer.transform([stemmed])\n",
    "    prediction=rf.predict(texxt)\n",
    "    if prediction[0]=='Fake':\n",
    "        label=\"news is fake\"\n",
    "    else:\n",
    "        label=\"news is real\"\n",
    "    return label\n",
    "input=\"COVID-19 Fact Check: Did Japan construct this bridge in 24 hours?\" \n",
    "predict(input)"
   ]
  },
  {
   "cell_type": "code",
   "execution_count": 132,
   "id": "4f5a03df-5cee-4778-8f4d-5e9614d4e543",
   "metadata": {},
   "outputs": [],
   "source": [
    "#svm classifier\n"
   ]
  },
  {
   "cell_type": "code",
   "execution_count": 133,
   "id": "82a3dd17-ffc2-408c-a2aa-a72f89993068",
   "metadata": {},
   "outputs": [
    {
     "data": {
      "text/html": [
       "<style>#sk-container-id-8 {color: black;background-color: white;}#sk-container-id-8 pre{padding: 0;}#sk-container-id-8 div.sk-toggleable {background-color: white;}#sk-container-id-8 label.sk-toggleable__label {cursor: pointer;display: block;width: 100%;margin-bottom: 0;padding: 0.3em;box-sizing: border-box;text-align: center;}#sk-container-id-8 label.sk-toggleable__label-arrow:before {content: \"▸\";float: left;margin-right: 0.25em;color: #696969;}#sk-container-id-8 label.sk-toggleable__label-arrow:hover:before {color: black;}#sk-container-id-8 div.sk-estimator:hover label.sk-toggleable__label-arrow:before {color: black;}#sk-container-id-8 div.sk-toggleable__content {max-height: 0;max-width: 0;overflow: hidden;text-align: left;background-color: #f0f8ff;}#sk-container-id-8 div.sk-toggleable__content pre {margin: 0.2em;color: black;border-radius: 0.25em;background-color: #f0f8ff;}#sk-container-id-8 input.sk-toggleable__control:checked~div.sk-toggleable__content {max-height: 200px;max-width: 100%;overflow: auto;}#sk-container-id-8 input.sk-toggleable__control:checked~label.sk-toggleable__label-arrow:before {content: \"▾\";}#sk-container-id-8 div.sk-estimator input.sk-toggleable__control:checked~label.sk-toggleable__label {background-color: #d4ebff;}#sk-container-id-8 div.sk-label input.sk-toggleable__control:checked~label.sk-toggleable__label {background-color: #d4ebff;}#sk-container-id-8 input.sk-hidden--visually {border: 0;clip: rect(1px 1px 1px 1px);clip: rect(1px, 1px, 1px, 1px);height: 1px;margin: -1px;overflow: hidden;padding: 0;position: absolute;width: 1px;}#sk-container-id-8 div.sk-estimator {font-family: monospace;background-color: #f0f8ff;border: 1px dotted black;border-radius: 0.25em;box-sizing: border-box;margin-bottom: 0.5em;}#sk-container-id-8 div.sk-estimator:hover {background-color: #d4ebff;}#sk-container-id-8 div.sk-parallel-item::after {content: \"\";width: 100%;border-bottom: 1px solid gray;flex-grow: 1;}#sk-container-id-8 div.sk-label:hover label.sk-toggleable__label {background-color: #d4ebff;}#sk-container-id-8 div.sk-serial::before {content: \"\";position: absolute;border-left: 1px solid gray;box-sizing: border-box;top: 0;bottom: 0;left: 50%;z-index: 0;}#sk-container-id-8 div.sk-serial {display: flex;flex-direction: column;align-items: center;background-color: white;padding-right: 0.2em;padding-left: 0.2em;position: relative;}#sk-container-id-8 div.sk-item {position: relative;z-index: 1;}#sk-container-id-8 div.sk-parallel {display: flex;align-items: stretch;justify-content: center;background-color: white;position: relative;}#sk-container-id-8 div.sk-item::before, #sk-container-id-8 div.sk-parallel-item::before {content: \"\";position: absolute;border-left: 1px solid gray;box-sizing: border-box;top: 0;bottom: 0;left: 50%;z-index: -1;}#sk-container-id-8 div.sk-parallel-item {display: flex;flex-direction: column;z-index: 1;position: relative;background-color: white;}#sk-container-id-8 div.sk-parallel-item:first-child::after {align-self: flex-end;width: 50%;}#sk-container-id-8 div.sk-parallel-item:last-child::after {align-self: flex-start;width: 50%;}#sk-container-id-8 div.sk-parallel-item:only-child::after {width: 0;}#sk-container-id-8 div.sk-dashed-wrapped {border: 1px dashed gray;margin: 0 0.4em 0.5em 0.4em;box-sizing: border-box;padding-bottom: 0.4em;background-color: white;}#sk-container-id-8 div.sk-label label {font-family: monospace;font-weight: bold;display: inline-block;line-height: 1.2em;}#sk-container-id-8 div.sk-label-container {text-align: center;}#sk-container-id-8 div.sk-container {/* jupyter's `normalize.less` sets `[hidden] { display: none; }` but bootstrap.min.css set `[hidden] { display: none !important; }` so we also need the `!important` here to be able to override the default hidden behavior on the sphinx rendered scikit-learn.org. See: https://github.com/scikit-learn/scikit-learn/issues/21755 */display: inline-block !important;position: relative;}#sk-container-id-8 div.sk-text-repr-fallback {display: none;}</style><div id=\"sk-container-id-8\" class=\"sk-top-container\"><div class=\"sk-text-repr-fallback\"><pre>SVC(kernel=&#x27;linear&#x27;, random_state=42)</pre><b>In a Jupyter environment, please rerun this cell to show the HTML representation or trust the notebook. <br />On GitHub, the HTML representation is unable to render, please try loading this page with nbviewer.org.</b></div><div class=\"sk-container\" hidden><div class=\"sk-item\"><div class=\"sk-estimator sk-toggleable\"><input class=\"sk-toggleable__control sk-hidden--visually\" id=\"sk-estimator-id-8\" type=\"checkbox\" checked><label for=\"sk-estimator-id-8\" class=\"sk-toggleable__label sk-toggleable__label-arrow\">SVC</label><div class=\"sk-toggleable__content\"><pre>SVC(kernel=&#x27;linear&#x27;, random_state=42)</pre></div></div></div></div></div>"
      ],
      "text/plain": [
       "SVC(kernel='linear', random_state=42)"
      ]
     },
     "execution_count": 133,
     "metadata": {},
     "output_type": "execute_result"
    }
   ],
   "source": [
    "from sklearn.svm import SVC\n",
    "svm_classifier = SVC(kernel='linear', random_state=42)\n",
    "svm_classifier.fit(X_train_tfidf, Y_train)"
   ]
  },
  {
   "cell_type": "code",
   "execution_count": 134,
   "id": "0ce9d568-ec2a-40a6-bb99-35eb663d4799",
   "metadata": {},
   "outputs": [],
   "source": [
    "y_pred_svm = svm_classifier.predict(X_test_tfidf)"
   ]
  },
  {
   "cell_type": "code",
   "execution_count": 135,
   "id": "89d364a5-6706-4551-acf0-be0fdcdecf06",
   "metadata": {},
   "outputs": [
    {
     "name": "stdout",
     "output_type": "stream",
     "text": [
      "train accurracy : 0.9569081035333945\n"
     ]
    }
   ],
   "source": [
    "print(\"train accurracy :\",accuracy_score(y_pred_svm,Y_test))"
   ]
  },
  {
   "cell_type": "code",
   "execution_count": 136,
   "id": "104a7244-273a-4d0f-bc69-e0268e016c84",
   "metadata": {},
   "outputs": [],
   "source": [
    "conf_matrix_svm = confusion_matrix(Y_test, y_pred_svm)\n",
    "class_report_svm = classification_report(Y_test, y_pred_svm)"
   ]
  },
  {
   "cell_type": "code",
   "execution_count": 137,
   "id": "b150f362-0a7e-4395-8980-6cb5cebebe26",
   "metadata": {},
   "outputs": [
    {
     "name": "stdout",
     "output_type": "stream",
     "text": [
      "SVM - Confusion Matrix:\n",
      "[[4156  494]\n",
      " [ 117 9412]]\n",
      "\n",
      "SVM - Classification Report:\n",
      "              precision    recall  f1-score   support\n",
      "\n",
      "        Fake       0.97      0.89      0.93      4650\n",
      "        TRUE       0.95      0.99      0.97      9529\n",
      "\n",
      "    accuracy                           0.96     14179\n",
      "   macro avg       0.96      0.94      0.95     14179\n",
      "weighted avg       0.96      0.96      0.96     14179\n",
      "\n"
     ]
    }
   ],
   "source": [
    "print(\"SVM - Confusion Matrix:\")\n",
    "print(conf_matrix_svm)\n",
    "print(\"\\nSVM - Classification Report:\")\n",
    "print(class_report_svm)"
   ]
  },
  {
   "cell_type": "code",
   "execution_count": 138,
   "id": "fb2fb462-d3c8-4142-b70f-38488d378fe0",
   "metadata": {},
   "outputs": [
    {
     "data": {
      "text/plain": [
       "'news is fake'"
      ]
     },
     "execution_count": 138,
     "metadata": {},
     "output_type": "execute_result"
    }
   ],
   "source": [
    "def predict(text):\n",
    "    stemmed=stemming(text)\n",
    "    texxt=tfidf_vectorizer.transform([stemmed])\n",
    "    prediction=rf.predict(texxt)\n",
    "    if prediction[0]=='Fake':\n",
    "        label=\"news is fake\"\n",
    "    else:\n",
    "        label=\"news is real\"\n",
    "    return label\n",
    "input=\"COVID-19 Fact Check: Did Japan construct this bridge in 24 hours?\" \n",
    "predict(input)"
   ]
  },
  {
   "cell_type": "code",
   "execution_count": 139,
   "id": "51188f40-32d5-45a2-99ad-d5117f061369",
   "metadata": {},
   "outputs": [],
   "source": [
    "#logisticregression"
   ]
  },
  {
   "cell_type": "code",
   "execution_count": 140,
   "id": "cd629299-10d8-4794-acf8-aa10f609a1d4",
   "metadata": {},
   "outputs": [
    {
     "data": {
      "text/html": [
       "<style>#sk-container-id-9 {color: black;background-color: white;}#sk-container-id-9 pre{padding: 0;}#sk-container-id-9 div.sk-toggleable {background-color: white;}#sk-container-id-9 label.sk-toggleable__label {cursor: pointer;display: block;width: 100%;margin-bottom: 0;padding: 0.3em;box-sizing: border-box;text-align: center;}#sk-container-id-9 label.sk-toggleable__label-arrow:before {content: \"▸\";float: left;margin-right: 0.25em;color: #696969;}#sk-container-id-9 label.sk-toggleable__label-arrow:hover:before {color: black;}#sk-container-id-9 div.sk-estimator:hover label.sk-toggleable__label-arrow:before {color: black;}#sk-container-id-9 div.sk-toggleable__content {max-height: 0;max-width: 0;overflow: hidden;text-align: left;background-color: #f0f8ff;}#sk-container-id-9 div.sk-toggleable__content pre {margin: 0.2em;color: black;border-radius: 0.25em;background-color: #f0f8ff;}#sk-container-id-9 input.sk-toggleable__control:checked~div.sk-toggleable__content {max-height: 200px;max-width: 100%;overflow: auto;}#sk-container-id-9 input.sk-toggleable__control:checked~label.sk-toggleable__label-arrow:before {content: \"▾\";}#sk-container-id-9 div.sk-estimator input.sk-toggleable__control:checked~label.sk-toggleable__label {background-color: #d4ebff;}#sk-container-id-9 div.sk-label input.sk-toggleable__control:checked~label.sk-toggleable__label {background-color: #d4ebff;}#sk-container-id-9 input.sk-hidden--visually {border: 0;clip: rect(1px 1px 1px 1px);clip: rect(1px, 1px, 1px, 1px);height: 1px;margin: -1px;overflow: hidden;padding: 0;position: absolute;width: 1px;}#sk-container-id-9 div.sk-estimator {font-family: monospace;background-color: #f0f8ff;border: 1px dotted black;border-radius: 0.25em;box-sizing: border-box;margin-bottom: 0.5em;}#sk-container-id-9 div.sk-estimator:hover {background-color: #d4ebff;}#sk-container-id-9 div.sk-parallel-item::after {content: \"\";width: 100%;border-bottom: 1px solid gray;flex-grow: 1;}#sk-container-id-9 div.sk-label:hover label.sk-toggleable__label {background-color: #d4ebff;}#sk-container-id-9 div.sk-serial::before {content: \"\";position: absolute;border-left: 1px solid gray;box-sizing: border-box;top: 0;bottom: 0;left: 50%;z-index: 0;}#sk-container-id-9 div.sk-serial {display: flex;flex-direction: column;align-items: center;background-color: white;padding-right: 0.2em;padding-left: 0.2em;position: relative;}#sk-container-id-9 div.sk-item {position: relative;z-index: 1;}#sk-container-id-9 div.sk-parallel {display: flex;align-items: stretch;justify-content: center;background-color: white;position: relative;}#sk-container-id-9 div.sk-item::before, #sk-container-id-9 div.sk-parallel-item::before {content: \"\";position: absolute;border-left: 1px solid gray;box-sizing: border-box;top: 0;bottom: 0;left: 50%;z-index: -1;}#sk-container-id-9 div.sk-parallel-item {display: flex;flex-direction: column;z-index: 1;position: relative;background-color: white;}#sk-container-id-9 div.sk-parallel-item:first-child::after {align-self: flex-end;width: 50%;}#sk-container-id-9 div.sk-parallel-item:last-child::after {align-self: flex-start;width: 50%;}#sk-container-id-9 div.sk-parallel-item:only-child::after {width: 0;}#sk-container-id-9 div.sk-dashed-wrapped {border: 1px dashed gray;margin: 0 0.4em 0.5em 0.4em;box-sizing: border-box;padding-bottom: 0.4em;background-color: white;}#sk-container-id-9 div.sk-label label {font-family: monospace;font-weight: bold;display: inline-block;line-height: 1.2em;}#sk-container-id-9 div.sk-label-container {text-align: center;}#sk-container-id-9 div.sk-container {/* jupyter's `normalize.less` sets `[hidden] { display: none; }` but bootstrap.min.css set `[hidden] { display: none !important; }` so we also need the `!important` here to be able to override the default hidden behavior on the sphinx rendered scikit-learn.org. See: https://github.com/scikit-learn/scikit-learn/issues/21755 */display: inline-block !important;position: relative;}#sk-container-id-9 div.sk-text-repr-fallback {display: none;}</style><div id=\"sk-container-id-9\" class=\"sk-top-container\"><div class=\"sk-text-repr-fallback\"><pre>LogisticRegression(random_state=42)</pre><b>In a Jupyter environment, please rerun this cell to show the HTML representation or trust the notebook. <br />On GitHub, the HTML representation is unable to render, please try loading this page with nbviewer.org.</b></div><div class=\"sk-container\" hidden><div class=\"sk-item\"><div class=\"sk-estimator sk-toggleable\"><input class=\"sk-toggleable__control sk-hidden--visually\" id=\"sk-estimator-id-9\" type=\"checkbox\" checked><label for=\"sk-estimator-id-9\" class=\"sk-toggleable__label sk-toggleable__label-arrow\">LogisticRegression</label><div class=\"sk-toggleable__content\"><pre>LogisticRegression(random_state=42)</pre></div></div></div></div></div>"
      ],
      "text/plain": [
       "LogisticRegression(random_state=42)"
      ]
     },
     "execution_count": 140,
     "metadata": {},
     "output_type": "execute_result"
    }
   ],
   "source": [
    "from sklearn.linear_model import LogisticRegression\n",
    "lr_classifier = LogisticRegression(random_state=42)\n",
    "lr_classifier.fit(X_train_tfidf, Y_train)"
   ]
  },
  {
   "cell_type": "code",
   "execution_count": 141,
   "id": "aeddb523-08cb-4c97-b249-2f3690329c0e",
   "metadata": {},
   "outputs": [],
   "source": [
    "y_pred_lr = lr_classifier.predict(X_test_tfidf)"
   ]
  },
  {
   "cell_type": "code",
   "execution_count": 142,
   "id": "00c1ae7e-1a73-4d7c-89cb-55169cb909e4",
   "metadata": {},
   "outputs": [
    {
     "name": "stdout",
     "output_type": "stream",
     "text": [
      "train accurracy : 0.9485154101135482\n"
     ]
    }
   ],
   "source": [
    "print(\"train accurracy :\",accuracy_score(y_pred_lr,Y_test))"
   ]
  },
  {
   "cell_type": "code",
   "execution_count": 143,
   "id": "4cfffb16-5476-4d86-8971-5e53b4244037",
   "metadata": {},
   "outputs": [],
   "source": [
    "conf_matrix_lr = confusion_matrix(Y_test, y_pred_lr)\n",
    "class_report_lr = classification_report(Y_test, y_pred_lr)"
   ]
  },
  {
   "cell_type": "code",
   "execution_count": 144,
   "id": "ba0eec32-dfc9-4e24-b6b7-afc6d97f62db",
   "metadata": {},
   "outputs": [
    {
     "name": "stdout",
     "output_type": "stream",
     "text": [
      "Logistic Regression - Confusion Matrix:\n",
      "[[4022  628]\n",
      " [ 102 9427]]\n",
      "\n",
      "Logistic Regression - Classification Report:\n",
      "              precision    recall  f1-score   support\n",
      "\n",
      "        Fake       0.98      0.86      0.92      4650\n",
      "        TRUE       0.94      0.99      0.96      9529\n",
      "\n",
      "    accuracy                           0.95     14179\n",
      "   macro avg       0.96      0.93      0.94     14179\n",
      "weighted avg       0.95      0.95      0.95     14179\n",
      "\n"
     ]
    }
   ],
   "source": [
    "print(\"Logistic Regression - Confusion Matrix:\")\n",
    "print(conf_matrix_lr)\n",
    "print(\"\\nLogistic Regression - Classification Report:\")\n",
    "print(class_report_lr)"
   ]
  },
  {
   "cell_type": "code",
   "execution_count": 145,
   "id": "aeb47791-ca6e-47c0-952c-f5fd38542cdd",
   "metadata": {},
   "outputs": [
    {
     "data": {
      "text/plain": [
       "'news is fake'"
      ]
     },
     "execution_count": 145,
     "metadata": {},
     "output_type": "execute_result"
    }
   ],
   "source": [
    "def predict(text):\n",
    "    stemmed=stemming(text)\n",
    "    texxt=tfidf_vectorizer.transform([stemmed])\n",
    "    prediction=rf.predict(texxt)\n",
    "    if prediction[0]=='Fake':\n",
    "        label=\"news is fake\"\n",
    "    else:\n",
    "        label=\"news is real\"\n",
    "    return label\n",
    "input=\"COVID-19 Fact Check: Did Japan construct this bridge in 24 hours?\" \n",
    "predict(input)"
   ]
  },
  {
   "cell_type": "code",
   "execution_count": null,
   "id": "5f393718-1fc5-48ba-a160-e62132155ae7",
   "metadata": {},
   "outputs": [],
   "source": []
  }
 ],
 "metadata": {
  "kernelspec": {
   "display_name": "Python 3 (ipykernel)",
   "language": "python",
   "name": "python3"
  },
  "language_info": {
   "codemirror_mode": {
    "name": "ipython",
    "version": 3
   },
   "file_extension": ".py",
   "mimetype": "text/x-python",
   "name": "python",
   "nbconvert_exporter": "python",
   "pygments_lexer": "ipython3",
   "version": "3.11.7"
  }
 },
 "nbformat": 4,
 "nbformat_minor": 5
}
